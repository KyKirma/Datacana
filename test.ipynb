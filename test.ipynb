{
 "cells": [
  {
   "cell_type": "code",
   "execution_count": 3,
   "metadata": {},
   "outputs": [
    {
     "name": "stdout",
     "output_type": "stream",
     "text": [
      "0       12705.859\n",
      "184      1886.977\n",
      "262        17.096\n",
      "347     13986.977\n",
      "353      1116.740\n",
      "          ...    \n",
      "8552        8.949\n",
      "8553        3.232\n",
      "8554       13.837\n",
      "8555        8.608\n",
      "9031      759.730\n",
      "Name: TOTAL_AREA, Length: 95, dtype: float64\n"
     ]
    }
   ],
   "source": [
    "import pandas as pd\n",
    "\n",
    "\n",
    "df = pd.read_csv(f'cache/CSVs/Data_2022.csv')\n",
    "df = df.loc[:, ['AREA', 'COD_MUNICIPIO', 'MUNICIPIO', 'MESO', 'MICRO']]\n",
    "df['TOTAL_AREA'] = df.groupby('MUNICIPIO')['AREA'].transform('sum')\n",
    "df.drop_duplicates(subset='MUNICIPIO', keep='first', inplace=True)\n",
    "df = df.loc[:, ['MUNICIPIO', 'TOTAL_AREA', 'COD_MUNICIPIO', 'MESO', 'MICRO']]\n",
    "\n",
    "print(df['TOTAL_AREA'])"
   ]
  }
 ],
 "metadata": {
  "kernelspec": {
   "display_name": ".venv",
   "language": "python",
   "name": "python3"
  },
  "language_info": {
   "codemirror_mode": {
    "name": "ipython",
    "version": 3
   },
   "file_extension": ".py",
   "mimetype": "text/x-python",
   "name": "python",
   "nbconvert_exporter": "python",
   "pygments_lexer": "ipython3",
   "version": "3.12.3"
  }
 },
 "nbformat": 4,
 "nbformat_minor": 2
}
